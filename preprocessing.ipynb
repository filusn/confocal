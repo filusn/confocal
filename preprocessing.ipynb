{
 "cells": [
  {
   "cell_type": "code",
   "execution_count": null,
   "metadata": {},
   "outputs": [],
   "source": [
    "import numpy as np\n",
    "import imageio\n",
    "from PIL import Image\n",
    "from scipy import fftpack\n",
    "import matplotlib.pyplot as plt\n",
    "%matplotlib inline"
   ]
  },
  {
   "cell_type": "markdown",
   "metadata": {},
   "source": [
    "## Discrete cosine transform"
   ]
  },
  {
   "cell_type": "code",
   "execution_count": null,
   "metadata": {},
   "outputs": [],
   "source": [
    "def dct2(a):\n",
    "    return scipy.fftpack.dct( scipy.fftpack.dct( a, axis=0, norm='ortho' ), axis=1, norm='ortho' )\n",
    "\n",
    "def idct2(a):\n",
    "    return scipy.fftpack.idct( scipy.fftpack.idct( a, axis=0 , norm='ortho'), axis=1 , norm='ortho')"
   ]
  },
  {
   "cell_type": "code",
   "execution_count": 1,
   "metadata": {},
   "outputs": [],
   "source": [
    "def make_dct(image):\n",
    "    imsize = image.shape\n",
    "    dct = np.zeros(imsize)\n",
    "\n",
    "    # Do 8x8 DCT on image (in-place)\n",
    "    for i in np.r_[:imsize[0]:8]:\n",
    "        for j in np.r_[:imsize[1]:8]:\n",
    "            dct[i:(i+8),j:(j+8)] = dct2(image[i:(i+8),j:(j+8)])\n",
    "    plt.figure(figsize=(8, 8))\n",
    "    plt.imshow(dct, cmap='gray', vmax=np.max(dct)*0.01, vmin=0)"
   ]
  },
  {
   "cell_type": "code",
   "execution_count": null,
   "metadata": {},
   "outputs": [],
   "source": [
    "# Threshold\n",
    "thresh = 0.012\n",
    "dct_thresh = dct * (abs(dct) > (thresh*np.max(dct)))\n",
    "\n",
    "\n",
    "plt.figure(figsize=(8, 8))\n",
    "plt.imshow(dct_thresh,cmap='gray',vmax = np.max(dct)*0.01,vmin = 0)\n",
    "plt.title( \"Thresholded 8x8 DCTs of the image\")\n",
    "\n",
    "percent_nonzeros = np.sum( dct_thresh != 0.0 ) / (imsize[0]*imsize[1]*1.0)\n",
    "\n",
    "print(\"Keeping only %f%% of the DCT coefficients\" % (percent_nonzeros*100.0))"
   ]
  },
  {
   "cell_type": "code",
   "execution_count": null,
   "metadata": {},
   "outputs": [],
   "source": [
    "im_dct = np.zeros(imsize)\n",
    "\n",
    "for i in r_[:imsize[0]:8]:\n",
    "    for j in r_[:imsize[1]:8]:\n",
    "        im_dct[i:(i+8),j:(j+8)] = idct2( dct_thresh[i:(i+8),j:(j+8)] )\n",
    "        \n",
    "        \n",
    "plt.figure(figsize=(24, 12))\n",
    "plt.imshow( np.hstack( (image, im_dct) ) ,cmap='gray')\n",
    "plt.title(\"Comparison between original and DCT compressed images\" )"
   ]
  }
 ],
 "metadata": {
  "kernelspec": {
   "display_name": "Python 3",
   "language": "python",
   "name": "python3"
  },
  "language_info": {
   "codemirror_mode": {
    "name": "ipython",
    "version": 3
   },
   "file_extension": ".py",
   "mimetype": "text/x-python",
   "name": "python",
   "nbconvert_exporter": "python",
   "pygments_lexer": "ipython3",
   "version": "3.6.8"
  }
 },
 "nbformat": 4,
 "nbformat_minor": 2
}
